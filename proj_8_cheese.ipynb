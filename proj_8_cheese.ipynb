{
 "cells": [
  {
   "cell_type": "code",
   "execution_count": 1,
   "id": "f2ae07d4-5560-4128-930f-1f3722471b0c",
   "metadata": {},
   "outputs": [],
   "source": [
    "import pandas as pd\n",
    "import plotly.graph_objs as go"
   ]
  },
  {
   "cell_type": "code",
   "execution_count": 2,
   "id": "378c731a-abdb-4ec2-99bd-485e10a26c56",
   "metadata": {},
   "outputs": [],
   "source": [
    "# Pulling in the csv\n",
    "df = pd.read_csv(\"apps/world_cheese_awards_2021.csv\")"
   ]
  },
  {
   "cell_type": "code",
   "execution_count": 3,
   "id": "ecf335ff-7053-475e-8252-f46df72dabe6",
   "metadata": {},
   "outputs": [
    {
     "data": {
      "text/html": [
       "<div>\n",
       "<style scoped>\n",
       "    .dataframe tbody tr th:only-of-type {\n",
       "        vertical-align: middle;\n",
       "    }\n",
       "\n",
       "    .dataframe tbody tr th {\n",
       "        vertical-align: top;\n",
       "    }\n",
       "\n",
       "    .dataframe thead th {\n",
       "        text-align: right;\n",
       "    }\n",
       "</style>\n",
       "<table border=\"1\" class=\"dataframe\">\n",
       "  <thead>\n",
       "    <tr style=\"text-align: right;\">\n",
       "      <th></th>\n",
       "      <th>Unnamed: 0</th>\n",
       "    </tr>\n",
       "  </thead>\n",
       "  <tbody>\n",
       "    <tr>\n",
       "      <th>count</th>\n",
       "      <td>1741.000000</td>\n",
       "    </tr>\n",
       "    <tr>\n",
       "      <th>mean</th>\n",
       "      <td>870.000000</td>\n",
       "    </tr>\n",
       "    <tr>\n",
       "      <th>std</th>\n",
       "      <td>502.727726</td>\n",
       "    </tr>\n",
       "    <tr>\n",
       "      <th>min</th>\n",
       "      <td>0.000000</td>\n",
       "    </tr>\n",
       "    <tr>\n",
       "      <th>25%</th>\n",
       "      <td>435.000000</td>\n",
       "    </tr>\n",
       "    <tr>\n",
       "      <th>50%</th>\n",
       "      <td>870.000000</td>\n",
       "    </tr>\n",
       "    <tr>\n",
       "      <th>75%</th>\n",
       "      <td>1305.000000</td>\n",
       "    </tr>\n",
       "    <tr>\n",
       "      <th>max</th>\n",
       "      <td>1740.000000</td>\n",
       "    </tr>\n",
       "  </tbody>\n",
       "</table>\n",
       "</div>"
      ],
      "text/plain": [
       "        Unnamed: 0\n",
       "count  1741.000000\n",
       "mean    870.000000\n",
       "std     502.727726\n",
       "min       0.000000\n",
       "25%     435.000000\n",
       "50%     870.000000\n",
       "75%    1305.000000\n",
       "max    1740.000000"
      ]
     },
     "execution_count": 3,
     "metadata": {},
     "output_type": "execute_result"
    }
   ],
   "source": [
    "# Using describe to find out information about the data set\n",
    "df.describe()"
   ]
  },
  {
   "cell_type": "code",
   "execution_count": 4,
   "id": "d158b317-8325-451b-87b5-52248407e750",
   "metadata": {},
   "outputs": [
    {
     "data": {
      "text/html": [
       "<div>\n",
       "<style scoped>\n",
       "    .dataframe tbody tr th:only-of-type {\n",
       "        vertical-align: middle;\n",
       "    }\n",
       "\n",
       "    .dataframe tbody tr th {\n",
       "        vertical-align: top;\n",
       "    }\n",
       "\n",
       "    .dataframe thead th {\n",
       "        text-align: right;\n",
       "    }\n",
       "</style>\n",
       "<table border=\"1\" class=\"dataframe\">\n",
       "  <thead>\n",
       "    <tr style=\"text-align: right;\">\n",
       "      <th></th>\n",
       "      <th>Unnamed: 0</th>\n",
       "      <th>company</th>\n",
       "      <th>product_name</th>\n",
       "      <th>rating</th>\n",
       "      <th>category</th>\n",
       "      <th>country</th>\n",
       "      <th>county</th>\n",
       "    </tr>\n",
       "  </thead>\n",
       "  <tbody>\n",
       "    <tr>\n",
       "      <th>0</th>\n",
       "      <td>0</td>\n",
       "      <td>Laiteries H. Triballat  Website</td>\n",
       "      <td>Picandou L'Original</td>\n",
       "      <td>GOLD</td>\n",
       "      <td>5001 - Soft goats’ milk cheese plain – fresh</td>\n",
       "      <td>France</td>\n",
       "      <td>NaN</td>\n",
       "    </tr>\n",
       "    <tr>\n",
       "      <th>1</th>\n",
       "      <td>1</td>\n",
       "      <td>Fromageries Lescure (Savencia)  Website</td>\n",
       "      <td>ISLOS GREEK GOAT CHEESE 150G</td>\n",
       "      <td>BRONZE</td>\n",
       "      <td>5001 - Soft goats’ milk cheese plain – fresh</td>\n",
       "      <td>Greece</td>\n",
       "      <td>NaN</td>\n",
       "    </tr>\n",
       "    <tr>\n",
       "      <th>2</th>\n",
       "      <td>2</td>\n",
       "      <td>Casale Roccolo azienda agricola biologica  Web...</td>\n",
       "      <td>Caprino Fresco CASALE ROCCOLO</td>\n",
       "      <td>SILVER</td>\n",
       "      <td>5001 - Soft goats’ milk cheese plain – fresh</td>\n",
       "      <td>Italy</td>\n",
       "      <td>NaN</td>\n",
       "    </tr>\n",
       "    <tr>\n",
       "      <th>3</th>\n",
       "      <td>3</td>\n",
       "      <td>DeJong Cheese  Website</td>\n",
       "      <td>Alphenaer Crumbled Goats Cheese Natural  View ...</td>\n",
       "      <td>BRONZE</td>\n",
       "      <td>5001 - Soft goats’ milk cheese plain – fresh</td>\n",
       "      <td>Netherlands</td>\n",
       "      <td>NaN</td>\n",
       "    </tr>\n",
       "    <tr>\n",
       "      <th>4</th>\n",
       "      <td>4</td>\n",
       "      <td>DeJong Cheese  Website</td>\n",
       "      <td>Alphenaer Spreadable Goats Cheese Natural  Vie...</td>\n",
       "      <td>BRONZE</td>\n",
       "      <td>5001 - Soft goats’ milk cheese plain – fresh</td>\n",
       "      <td>Netherlands</td>\n",
       "      <td>NaN</td>\n",
       "    </tr>\n",
       "  </tbody>\n",
       "</table>\n",
       "</div>"
      ],
      "text/plain": [
       "   Unnamed: 0                                            company  \\\n",
       "0           0                    Laiteries H. Triballat  Website   \n",
       "1           1            Fromageries Lescure (Savencia)  Website   \n",
       "2           2  Casale Roccolo azienda agricola biologica  Web...   \n",
       "3           3                             DeJong Cheese  Website   \n",
       "4           4                             DeJong Cheese  Website   \n",
       "\n",
       "                                        product_name  rating  \\\n",
       "0                                Picandou L'Original    GOLD   \n",
       "1                       ISLOS GREEK GOAT CHEESE 150G  BRONZE   \n",
       "2                      Caprino Fresco CASALE ROCCOLO  SILVER   \n",
       "3  Alphenaer Crumbled Goats Cheese Natural  View ...  BRONZE   \n",
       "4  Alphenaer Spreadable Goats Cheese Natural  Vie...  BRONZE   \n",
       "\n",
       "                                       category      country county  \n",
       "0  5001 - Soft goats’ milk cheese plain – fresh       France    NaN  \n",
       "1  5001 - Soft goats’ milk cheese plain – fresh       Greece    NaN  \n",
       "2  5001 - Soft goats’ milk cheese plain – fresh        Italy    NaN  \n",
       "3  5001 - Soft goats’ milk cheese plain – fresh  Netherlands    NaN  \n",
       "4  5001 - Soft goats’ milk cheese plain – fresh  Netherlands    NaN  "
      ]
     },
     "execution_count": 4,
     "metadata": {},
     "output_type": "execute_result"
    }
   ],
   "source": [
    "#Using head to get a sense of the information within the data set\n",
    "df.head()"
   ]
  },
  {
   "cell_type": "code",
   "execution_count": 5,
   "id": "0eb5344e-196d-4c55-b8de-1e01031e63cf",
   "metadata": {},
   "outputs": [
    {
     "data": {
      "text/plain": [
       "(1741, 7)"
      ]
     },
     "execution_count": 5,
     "metadata": {},
     "output_type": "execute_result"
    }
   ],
   "source": [
    "#Checking out the number of rows/columns of the data set\n",
    "df.shape"
   ]
  },
  {
   "cell_type": "code",
   "execution_count": 6,
   "id": "bac1d09f-bc75-4db6-81b1-76c98f5ac570",
   "metadata": {},
   "outputs": [
    {
     "data": {
      "text/plain": [
       "Unnamed: 0         0\n",
       "company            0\n",
       "product_name       0\n",
       "rating             0\n",
       "category           0\n",
       "country            0\n",
       "county          1656\n",
       "dtype: int64"
      ]
     },
     "execution_count": 6,
     "metadata": {},
     "output_type": "execute_result"
    }
   ],
   "source": [
    "#Noticed the count column has a long of NaN. Decided to get a count of the number of NaN rows\n",
    "df.isnull().sum()"
   ]
  },
  {
   "cell_type": "code",
   "execution_count": 7,
   "id": "ac0714a5-7533-4d25-a0b0-c2ce13bf47dd",
   "metadata": {},
   "outputs": [
    {
     "name": "stderr",
     "output_type": "stream",
     "text": [
      "/tmp/ipykernel_229/1151452817.py:1: FutureWarning: Dropping of nuisance columns in DataFrame reductions (with 'numeric_only=None') is deprecated; in a future version this will raise TypeError.  Select only valid columns before calling the reduction.\n",
      "  df.max()\n"
     ]
    },
    {
     "data": {
      "text/plain": [
       "Unnamed: 0                                                   1740\n",
       "company             terramater ( azienda agricola nodar)  Website\n",
       "product_name             •\\tVillaHerencia - Tender Sheep´s Cheese\n",
       "rating                                                 SUPER GOLD\n",
       "category        5710 - Any other buffalo's milk cheese not in ...\n",
       "country                                            United Kingdom\n",
       "dtype: object"
      ]
     },
     "execution_count": 7,
     "metadata": {},
     "output_type": "execute_result"
    }
   ],
   "source": [
    "#Playing around with max\n",
    "df.max()"
   ]
  },
  {
   "cell_type": "code",
   "execution_count": 8,
   "id": "8f13bf22-cf64-4fe1-956b-d2a594374971",
   "metadata": {},
   "outputs": [
    {
     "name": "stderr",
     "output_type": "stream",
     "text": [
      "/tmp/ipykernel_229/3962516015.py:1: FutureWarning: Dropping of nuisance columns in DataFrame reductions (with 'numeric_only=None') is deprecated; in a future version this will raise TypeError.  Select only valid columns before calling the reduction.\n",
      "  df.min()\n"
     ]
    },
    {
     "data": {
      "text/plain": [
       "Unnamed: 0                                                 0\n",
       "company             \"SA CRABERIA\" AZIENDA OVICAPRINA BRAU A.\n",
       "product_name                      \"Balaton\" semi-hard cheese\n",
       "rating                                                BRONZE\n",
       "category        5001 - Soft goats’ milk cheese plain – fresh\n",
       "country                                            Argentina\n",
       "dtype: object"
      ]
     },
     "execution_count": 8,
     "metadata": {},
     "output_type": "execute_result"
    }
   ],
   "source": [
    "#Playing around with min\n",
    "df.min()"
   ]
  },
  {
   "cell_type": "code",
   "execution_count": 9,
   "id": "d42d8d57-3da9-4968-ac32-681b5230a81b",
   "metadata": {},
   "outputs": [],
   "source": [
    "#Decided to drop the county column as it was mostly NaNs\n",
    "new=df.drop(['county', 'Unnamed: 0'], axis=1)"
   ]
  },
  {
   "cell_type": "code",
   "execution_count": 10,
   "id": "605da1f2-0908-4f9d-abe5-cf9ff7403c40",
   "metadata": {},
   "outputs": [
    {
     "data": {
      "text/plain": [
       "(1741, 5)"
      ]
     },
     "execution_count": 10,
     "metadata": {},
     "output_type": "execute_result"
    }
   ],
   "source": [
    "#Checking out the new row/column count\n",
    "new.shape"
   ]
  },
  {
   "cell_type": "code",
   "execution_count": 11,
   "id": "b76cff05-659a-4bf4-a1a1-d6ed8503c3cf",
   "metadata": {},
   "outputs": [
    {
     "data": {
      "text/plain": [
       "company         object\n",
       "product_name    object\n",
       "rating          object\n",
       "category        object\n",
       "country         object\n",
       "dtype: object"
      ]
     },
     "execution_count": 11,
     "metadata": {},
     "output_type": "execute_result"
    }
   ],
   "source": [
    "#Checking the data types for each column\n",
    "new.dtypes"
   ]
  },
  {
   "cell_type": "code",
   "execution_count": 45,
   "id": "6940ac34-99f7-4edd-bb98-abb65dd7ee2c",
   "metadata": {},
   "outputs": [
    {
     "data": {
      "text/plain": [
       "array(['France', 'Greece', 'Italy', 'Netherlands', 'Spain',\n",
       "       'United Kingdom', 'Austria', 'Belgium', 'Japan', 'Portugal', 'USA',\n",
       "       'Brazil', 'Canada', 'Cyprus', 'Norway', 'Bosnia and Herzegovina',\n",
       "       'Colombia', 'Ireland', 'Israel', 'Slovakia', 'Switzerland',\n",
       "       'Mexico', 'Romania', 'Croatia', 'South Africa', 'Finland',\n",
       "       'Estonia', 'Germany', 'Hungary', 'Liechtenstein', 'Slovenia',\n",
       "       'Sweden', 'Lithuania', 'Guatemala', 'India', 'Australia',\n",
       "       'Denmark', 'Argentina', 'Ecuador'], dtype=object)"
      ]
     },
     "execution_count": 45,
     "metadata": {},
     "output_type": "execute_result"
    }
   ],
   "source": [
    "#Playing around with unique to see how many different countries are found in the data set\n",
    "new['country'].unique()"
   ]
  },
  {
   "cell_type": "code",
   "execution_count": 16,
   "id": "f69c9236-6ab3-4689-814e-8800ecf6b8f6",
   "metadata": {},
   "outputs": [
    {
     "data": {
      "text/plain": [
       "array(['GOLD', 'BRONZE', 'SILVER', 'SUPER GOLD'], dtype=object)"
      ]
     },
     "execution_count": 16,
     "metadata": {},
     "output_type": "execute_result"
    }
   ],
   "source": [
    "#Used unique to view the distinct rating types\n",
    "new['rating'].unique()"
   ]
  },
  {
   "cell_type": "code",
   "execution_count": 28,
   "id": "f56608ea-eafb-4355-8ddd-1fb00cb9287e",
   "metadata": {},
   "outputs": [
    {
     "name": "stdout",
     "output_type": "stream",
     "text": [
      "BRONZE        747\n",
      "SILVER        590\n",
      "GOLD          316\n",
      "SUPER GOLD     88\n",
      "Name: rating, dtype: int64\n"
     ]
    }
   ],
   "source": [
    "#Setting the above as a new variable and then printing the variable\n",
    "new_one=new['rating'].value_counts()\n",
    "print(new_two)"
   ]
  },
  {
   "cell_type": "code",
   "execution_count": 20,
   "id": "9921a52f-1ebd-419d-9076-24e857063f71",
   "metadata": {},
   "outputs": [],
   "source": [
    "#Making a copy of the new variable, so that I can manipulate the data without including the county column that was dropped earlier\n",
    "new_two=new_one.copy(deep=True)"
   ]
  },
  {
   "cell_type": "code",
   "execution_count": 42,
   "id": "983f4349-fe86-41f6-91b6-b6dbc6c87f55",
   "metadata": {},
   "outputs": [
    {
     "data": {
      "text/plain": [
       "<AxesSubplot:title={'center':'Number of Countries per Rating'}>"
      ]
     },
     "execution_count": 42,
     "metadata": {},
     "output_type": "execute_result"
    },
    {
     "data": {
      "image/png": "[encoded data removed]",
      "text/plain": [
       "<Figure size 432x288 with 1 Axes>"
      ]
     },
     "metadata": {
      "needs_background": "light"
     },
     "output_type": "display_data"
    }
   ],
   "source": [
    "#Used the copy of the variable to create a bar chart and included a title\n",
    "new_two.plot(kind='bar', x='Rating', y='Number of Countries', title='Number of Countries per Rating')"
   ]
  },
  {
   "cell_type": "code",
   "execution_count": 43,
   "id": "ec348872-8255-45cc-92e5-66f2f939b72f",
   "metadata": {},
   "outputs": [
    {
     "data": {
      "text/plain": [
       "<AxesSubplot:title={'center':'Number of Countries per Rating'}>"
      ]
     },
     "execution_count": 43,
     "metadata": {},
     "output_type": "execute_result"
    },
    {
     "data": {
      "image/png": "[encoded data removed]",
      "text/plain": [
       "<Figure size 432x288 with 1 Axes>"
      ]
     },
     "metadata": {
      "needs_background": "light"
     },
     "output_type": "display_data"
    }
   ],
   "source": [
    "#Using the same data for a horizontal bar chart\n",
    "new_two.plot(kind='barh', x='Rating', y='Number of Countries', title='Number of Countries per Rating')"
   ]
  },
  {
   "cell_type": "code",
   "execution_count": 47,
   "id": "ec13804f-6a59-46db-851d-0ae2670b055d",
   "metadata": {},
   "outputs": [
    {
     "data": {
      "text/plain": [
       "<AxesSubplot:ylabel='Frequency'>"
      ]
     },
     "execution_count": 47,
     "metadata": {},
     "output_type": "execute_result"
    },
    {
     "data": {
      "image/png": "[encoded data removed]",
      "text/plain": [
       "<Figure size 432x288 with 1 Axes>"
      ]
     },
     "metadata": {
      "needs_background": "light"
     },
     "output_type": "display_data"
    }
   ],
   "source": [
    "#Using the same data data for a histogram\n",
    "new_two.plot(kind=\"hist\")"
   ]
  },
  {
   "cell_type": "code",
   "execution_count": 59,
   "id": "eb94718d-fdc5-45c3-9c92-f7a7e0602539",
   "metadata": {},
   "outputs": [
    {
     "data": {
      "text/plain": [
       "array([<AxesSubplot:ylabel='rating'>], dtype=object)"
      ]
     },
     "execution_count": 59,
     "metadata": {},
     "output_type": "execute_result"
    },
    {
     "data": {
      "image/png": "[encoded data removed]",
      "text/plain": [
       "<Figure size 432x288 with 1 Axes>"
      ]
     },
     "metadata": {},
     "output_type": "display_data"
    }
   ],
   "source": [
    "#Using the same data in a pie chart (WIP)\n",
    "new_two.plot(title='Number of Countries per Rating', kind='pie', y='Rating', subplots=True)"
   ]
  },
  {
   "cell_type": "code",
   "execution_count": 49,
   "id": "5055e88f-ee7b-4f7f-abbd-14e8418ac8f9",
   "metadata": {},
   "outputs": [
    {
     "data": {
      "text/plain": [
       "<AxesSubplot:title={'center':'Number of Countries per Rating'}>"
      ]
     },
     "execution_count": 49,
     "metadata": {},
     "output_type": "execute_result"
    },
    {
     "data": {
      "image/png": "[encoded data removed]",
      "text/plain": [
       "<Figure size 432x288 with 1 Axes>"
      ]
     },
     "metadata": {
      "needs_background": "light"
     },
     "output_type": "display_data"
    }
   ],
   "source": [
    "#Using the same data for astacked area plot\n",
    "new_two.plot(kind=\"area\", title='Number of Countries per Rating')"
   ]
  },
  {
   "cell_type": "code",
   "execution_count": 52,
   "id": "c96eee3f-f4f7-4ef4-9b00-14e014d31374",
   "metadata": {},
   "outputs": [
    {
     "data": {
      "text/plain": [
       "<AxesSubplot:title={'center':'Number of Countries per Rating'}>"
      ]
     },
     "execution_count": 52,
     "metadata": {},
     "output_type": "execute_result"
    },
    {
     "data": {
      "image/png": "[encoded data removed]",
      "text/plain": [
       "<Figure size 432x288 with 1 Axes>"
      ]
     },
     "metadata": {
      "needs_background": "light"
     },
     "output_type": "display_data"
    }
   ],
   "source": [
    "#Using the same data with a box chart\n",
    "new_two.plot(kind=\"box\", title='Number of Countries per Rating')"
   ]
  },
  {
   "cell_type": "code",
   "execution_count": 55,
   "id": "bfdb3e17-a748-4cab-b5c7-64106120d2a7",
   "metadata": {},
   "outputs": [
    {
     "data": {
      "text/plain": [
       "<AxesSubplot:title={'center':'Number of Countries per Rating'}, ylabel='Density'>"
      ]
     },
     "execution_count": 55,
     "metadata": {},
     "output_type": "execute_result"
    },
    {
     "data": {
      "image/png": "[encoded data removed]",
      "text/plain": [
       "<Figure size 432x288 with 1 Axes>"
      ]
     },
     "metadata": {
      "needs_background": "light"
     },
     "output_type": "display_data"
    }
   ],
   "source": [
    "#Using the same data with a Kernel Density Estimate plot using density\n",
    "new_two.plot(kind=\"density\", title='Number of Countries per Rating')"
   ]
  },
  {
   "cell_type": "code",
   "execution_count": 56,
   "id": "2fc26d90-1a61-47b6-abd8-6ed9f94c72fe",
   "metadata": {},
   "outputs": [
    {
     "data": {
      "text/plain": [
       "<AxesSubplot:title={'center':'Number of Countries per Rating'}, ylabel='Density'>"
      ]
     },
     "execution_count": 56,
     "metadata": {},
     "output_type": "execute_result"
    },
    {
     "data": {
      "image/png": "[encoded data removed]",
      "text/plain": [
       "<Figure size 432x288 with 1 Axes>"
      ]
     },
     "metadata": {
      "needs_background": "light"
     },
     "output_type": "display_data"
    }
   ],
   "source": [
    "#Using the same data with a Kernel Density Estimate plot (looks the same as above)\n",
    "new_two.plot(kind=\"kde\", title='Number of Countries per Rating')"
   ]
  },
  {
   "cell_type": "code",
   "execution_count": 57,
   "id": "77ff5cf0-69fc-4111-9e7c-156ce3e75a3f",
   "metadata": {},
   "outputs": [
    {
     "data": {
      "text/plain": [
       "<AxesSubplot:title={'center':'Number of Countries per Rating'}>"
      ]
     },
     "execution_count": 57,
     "metadata": {},
     "output_type": "execute_result"
    },
    {
     "data": {
      "image/png": "[encoded data removed]",
      "text/plain": [
       "<Figure size 432x288 with 1 Axes>"
      ]
     },
     "metadata": {
      "needs_background": "light"
     },
     "output_type": "display_data"
    }
   ],
   "source": [
    "#Using the same data with a line graph\n",
    "new_two.plot(kind=\"line\", title='Number of Countries per Rating')"
   ]
  }
 ],
 "metadata": {
  "kernelspec": {
   "display_name": "default:Python",
   "language": "python",
   "name": "conda-env-default-py"
  },
  "language_info": {
   "codemirror_mode": {
    "name": "ipython",
    "version": 3
   },
   "file_extension": ".py",
   "mimetype": "text/x-python",
   "name": "python",
   "nbconvert_exporter": "python",
   "pygments_lexer": "ipython3",
   "version": "3.9.13"
  }
 },
 "nbformat": 4,
 "nbformat_minor": 5
}
