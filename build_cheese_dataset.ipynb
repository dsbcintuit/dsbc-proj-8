{
 "cells": [
  {
   "cell_type": "markdown",
   "metadata": {
    "colab_type": "text",
    "id": "view-in-github"
   },
   "source": [
    "<a href=\"https://colab.research.google.com/github/EricPostMaster/world_cheese_awards/blob/main/build_cheese_dataset.ipynb\" target=\"_parent\"><img src=\"https://colab.research.google.com/assets/colab-badge.svg\" alt=\"Open In Colab\"/></a>"
   ]
  },
  {
   "cell_type": "markdown",
   "metadata": {
    "id": "vGx3KWsO44TC"
   },
   "source": [
    "## Install and import required packages"
   ]
  },
  {
   "cell_type": "code",
   "execution_count": 1,
   "metadata": {
    "id": "4ph_T4fUJS3a"
   },
   "outputs": [
    {
     "name": "stdout",
     "output_type": "stream",
     "text": [
      "Requirement already satisfied: selenium in /home/studio-lab-user/.conda/envs/default/lib/python3.9/site-packages (4.4.3)\n",
      "Requirement already satisfied: trio-websocket~=0.9 in /home/studio-lab-user/.conda/envs/default/lib/python3.9/site-packages (from selenium) (0.9.2)\n",
      "Requirement already satisfied: urllib3[socks]~=1.26 in /home/studio-lab-user/.conda/envs/default/lib/python3.9/site-packages (from selenium) (1.26.12)\n",
      "Requirement already satisfied: trio~=0.17 in /home/studio-lab-user/.conda/envs/default/lib/python3.9/site-packages (from selenium) (0.21.0)\n",
      "Requirement already satisfied: certifi>=2021.10.8 in /home/studio-lab-user/.conda/envs/default/lib/python3.9/site-packages (from selenium) (2022.6.15)\n",
      "Requirement already satisfied: outcome in /home/studio-lab-user/.conda/envs/default/lib/python3.9/site-packages (from trio~=0.17->selenium) (1.2.0)\n",
      "Requirement already satisfied: idna in /home/studio-lab-user/.conda/envs/default/lib/python3.9/site-packages (from trio~=0.17->selenium) (3.3)\n",
      "Requirement already satisfied: sortedcontainers in /home/studio-lab-user/.conda/envs/default/lib/python3.9/site-packages (from trio~=0.17->selenium) (2.4.0)\n",
      "Requirement already satisfied: attrs>=19.2.0 in /home/studio-lab-user/.conda/envs/default/lib/python3.9/site-packages (from trio~=0.17->selenium) (21.4.0)\n",
      "Requirement already satisfied: async-generator>=1.9 in /home/studio-lab-user/.conda/envs/default/lib/python3.9/site-packages (from trio~=0.17->selenium) (1.10)\n",
      "Requirement already satisfied: sniffio in /home/studio-lab-user/.conda/envs/default/lib/python3.9/site-packages (from trio~=0.17->selenium) (1.2.0)\n",
      "Requirement already satisfied: wsproto>=0.14 in /home/studio-lab-user/.conda/envs/default/lib/python3.9/site-packages (from trio-websocket~=0.9->selenium) (1.2.0)\n",
      "Requirement already satisfied: PySocks!=1.5.7,<2.0,>=1.5.6 in /home/studio-lab-user/.conda/envs/default/lib/python3.9/site-packages (from urllib3[socks]~=1.26->selenium) (1.7.1)\n",
      "Requirement already satisfied: h11<1,>=0.9.0 in /home/studio-lab-user/.conda/envs/default/lib/python3.9/site-packages (from wsproto>=0.14->trio-websocket~=0.9->selenium) (0.13.0)\n",
      "Requirement already satisfied: webdriver_manager in /home/studio-lab-user/.conda/envs/default/lib/python3.9/site-packages (3.8.3)\n",
      "Requirement already satisfied: tqdm in /home/studio-lab-user/.conda/envs/default/lib/python3.9/site-packages (from webdriver_manager) (4.64.0)\n",
      "Requirement already satisfied: python-dotenv in /home/studio-lab-user/.conda/envs/default/lib/python3.9/site-packages (from webdriver_manager) (0.20.0)\n",
      "Requirement already satisfied: requests in /home/studio-lab-user/.conda/envs/default/lib/python3.9/site-packages (from webdriver_manager) (2.28.1)\n",
      "Requirement already satisfied: idna<4,>=2.5 in /home/studio-lab-user/.conda/envs/default/lib/python3.9/site-packages (from requests->webdriver_manager) (3.3)\n",
      "Requirement already satisfied: urllib3<1.27,>=1.21.1 in /home/studio-lab-user/.conda/envs/default/lib/python3.9/site-packages (from requests->webdriver_manager) (1.26.12)\n",
      "Requirement already satisfied: charset-normalizer<3,>=2 in /home/studio-lab-user/.conda/envs/default/lib/python3.9/site-packages (from requests->webdriver_manager) (2.1.1)\n",
      "Requirement already satisfied: certifi>=2017.4.17 in /home/studio-lab-user/.conda/envs/default/lib/python3.9/site-packages (from requests->webdriver_manager) (2022.6.15)\n",
      "Reading package lists... Done\n",
      "E: List directory /var/lib/apt/lists/partial is missing. - Acquire (13: Permission denied)\n"
     ]
    }
   ],
   "source": [
    "!pip install selenium\n",
    "!pip install webdriver_manager\n",
    "!apt-get update \n",
    "# !apt install chromium-chromedriver"
   ]
  },
  {
   "cell_type": "code",
   "execution_count": 2,
   "metadata": {
    "id": "DvVlGiqaJLed"
   },
   "outputs": [],
   "source": [
    "import pandas as pd\n",
    "import numpy as np\n",
    "import csv\n",
    "from selenium import webdriver\n",
    "from selenium.webdriver.common.keys import Keys\n",
    "from webdriver_manager.chrome import ChromeDriverManager\n",
    "from selenium.webdriver.chrome.options import Options\n",
    "import requests\n",
    "\n",
    "chrome_options = webdriver.ChromeOptions()\n",
    "chrome_options.add_argument('--headless')\n",
    "chrome_options.add_argument('--no-sandbox')\n",
    "chrome_options.add_argument('--disable-dev-shm-usage')"
   ]
  },
  {
   "cell_type": "markdown",
   "metadata": {
    "id": "AvFepqil4_JM"
   },
   "source": [
    "## Get category, country, and county values"
   ]
  },
  {
   "cell_type": "code",
   "execution_count": 3,
   "metadata": {
    "id": "gwEGHUCkJMmU"
   },
   "outputs": [],
   "source": [
    "countries = ['Afghanistan', 'Algeria', 'Argentina', 'Armenia', 'Australia', 'Austria', 'Azerbaijan', 'Bangladesh', 'Barbados', 'Belgium', 'Belize', 'Bolivia', 'Bosnia and Herzegovina', 'Botswana', 'Brazil', 'Bulgaria', 'Burundi', 'Cambodia', 'Canada', 'Cayman Islands', 'Chile', 'China', 'Colombia', 'Costa Rica', 'Croatia', 'Cuba', 'Cyprus', 'Czech Republic', 'Denmark', 'Dominican Republic', 'East Timor', 'Ecuador', 'Egypt', 'El Salvador', 'Estonia', 'Ethiopia', 'Fiji', 'Finland', 'France', 'Georgia', 'Germany', 'Ghana', 'Gibraltar', 'Greece', 'Greenland', 'Grenada', 'Guatemala', 'Guernsey', 'Guinea', 'Guyana', 'Haiti', 'Honduras', 'Hong Kong', 'Hungary', 'Iceland', 'India', 'Indonesia', 'Iran', 'Iraq', 'Ireland', 'Isle of Man', 'Israel', 'Italy', 'Ivory Coast', 'Jamaica', 'Japan', 'Jersey', 'Jordan', 'Kazakhstan', 'Kenya', 'Korea', 'Kosovo', 'Kyrgyzstan', 'Latvia', 'Lebanon', 'Liechtenstein', 'Lithuania', 'Luxembourg', 'Macau', 'Macedonia', 'Madagascar', 'Malawi', 'Malaysia', 'Mali', 'Malta', 'Mauritania', 'Mauritius', 'Mexico', 'Moldova', 'Montenegro', 'Morocco', 'Myanmar', 'Nepal', 'Netherlands', 'New Zealand', 'Nicaragua', 'Nigeria', 'Norway', 'Pakistan', 'Palestine', 'Panama', 'Papua New Guinea', 'Peru', 'Philippines', 'Poland', 'Portugal', 'Puerto Rico', 'Romania', 'Russia', 'Rwanda', 'Saint Lucia', 'Saudi Arabia', 'Senegal', 'Serbia', 'Singapore', 'Slovakia', 'Slovenia', 'South Africa', 'Spain', 'Sri Lanka', 'St Vincent &amp; the Grenadines', 'Sudan', 'Swaziland', 'Sweden', 'Switzerland', 'Taiwan', 'Tanzania', 'Thailand', 'Trinidad and Tobago', 'Tunisia', 'Turkey', 'Turkmenistan', 'Uganda', 'Ukraine', 'United Arab Emirates', 'United Kingdom', 'Uruguay', 'USA', 'Venezuela', 'Vietnam', 'Yemen', 'Zimbabwe']\n",
    "counties = ['Aberdeen City', 'Aberdeenshire', 'Angus', 'Antrim', 'Argyll and Bute', 'Armagh', 'Bedfordshire', 'Berkshire', 'Buckinghamshire', 'Cambridgeshire', 'Carlow', 'Carmarthenshire', 'Cavan', 'Ceredigion', 'Cheshire', 'Clackmannanshire', 'Clare', 'Clwyd', 'Cork', 'Cornwall', 'County Durham', 'Cumbria', 'Denbighshire', 'Derbyshire', 'Derry', 'Devon', 'Donegal', 'Dorset', 'Down', 'Down', 'Dublin', 'Dumfries and Galloway', 'Dundee City', 'East Ayrshire', 'East Dunbartonshire', 'East Lothian', 'East Renfrewshire', 'East Riding of Yorkshire', 'East Sussex', 'East Yorkshire', 'Edinburgh', 'Essex', 'Falkirk', 'Fermanagh', 'Fife', 'Flintshire', 'Galway', 'Glamorgan', 'Glasgow', 'Gloucestershire', 'Greater London', 'Greater Manchester', 'Gwent', 'Gwynedd', 'Hampshire', 'Herefordshire', 'Hertfordshire', 'Highland', 'Inverclyde', 'Isle of Anglesey', 'Isle of Man', 'Isle of Wight', 'Kent', 'Kerry', 'Kildare', 'Kilkenny', 'Kingston upon Hull', 'Lancashire', 'Laois', 'Leicestershire', 'Leitrim', 'Limerick', 'Lincolnshire', 'Londonderry', 'Longford', 'Louth', 'Mayo', 'Meath', 'Merseyside', 'Mid Glamorgan', 'Middlesex', 'Midlothian', 'Monaghan', 'Monmouthshire', 'Moray', 'Norfolk', 'North Ayrshire', 'North Humberside', 'North Lanarkshire', 'North Yorkshire', 'Northamptonshire', 'Northumberland', 'Nottinghamshire', 'Offaly', 'Orkney Islands', 'Oxfordshire', 'Pembrokeshire', 'Perth and Kinross', 'Powys', 'Renfrewshire', 'Rhondda Cynon Taf', 'Roscommon', 'Rutland', 'Scottish Borders', 'Shetland Islands', 'Shropshire', 'Sligo', 'Somerset', 'South Ayrshire', 'South Glamorgan', 'South Lanarkshire', 'South Yorkshire', 'Staffordshire', 'Stirling', 'Suffolk', 'Surrey', 'Tipperary', 'Tyne and Wear', 'Tyrone', 'Warwickshire', 'Waterford', 'West Dunbartonshire', 'West Glamorgan', 'West Lothian', 'West Midlands', 'West Sussex', 'West Yorkshire', 'Western Isles', 'Westmeath', 'Wexford', 'Wicklow', 'Wiltshire', 'Worcestershire']"
   ]
  },
  {
   "cell_type": "code",
   "execution_count": 4,
   "metadata": {
    "id": "czuengdxJtDf"
   },
   "outputs": [
    {
     "name": "stderr",
     "output_type": "stream",
     "text": [
      "/tmp/ipykernel_812/3327474305.py:2: DeprecationWarning: use options instead of chrome_options\n",
      "  driver = webdriver.Chrome('chromedriver',chrome_options=chrome_options)\n"
     ]
    },
    {
     "ename": "WebDriverException",
     "evalue": "Message: 'chromedriver' executable needs to be in PATH. Please see https://chromedriver.chromium.org/home\n",
     "output_type": "error",
     "traceback": [
      "\u001b[0;31m---------------------------------------------------------------------------\u001b[0m",
      "\u001b[0;31mFileNotFoundError\u001b[0m                         Traceback (most recent call last)",
      "\u001b[0;32m~/.conda/envs/default/lib/python3.9/site-packages/selenium/webdriver/common/service.py\u001b[0m in \u001b[0;36mstart\u001b[0;34m(self)\u001b[0m\n\u001b[1;32m     70\u001b[0m             \u001b[0mcmd\u001b[0m\u001b[0;34m.\u001b[0m\u001b[0mextend\u001b[0m\u001b[0;34m(\u001b[0m\u001b[0mself\u001b[0m\u001b[0;34m.\u001b[0m\u001b[0mcommand_line_args\u001b[0m\u001b[0;34m(\u001b[0m\u001b[0;34m)\u001b[0m\u001b[0;34m)\u001b[0m\u001b[0;34m\u001b[0m\u001b[0;34m\u001b[0m\u001b[0m\n\u001b[0;32m---> 71\u001b[0;31m             self.process = subprocess.Popen(cmd, env=self.env,\n\u001b[0m\u001b[1;32m     72\u001b[0m                                             \u001b[0mclose_fds\u001b[0m\u001b[0;34m=\u001b[0m\u001b[0msystem\u001b[0m\u001b[0;34m(\u001b[0m\u001b[0;34m)\u001b[0m \u001b[0;34m!=\u001b[0m \u001b[0;34m'Windows'\u001b[0m\u001b[0;34m,\u001b[0m\u001b[0;34m\u001b[0m\u001b[0;34m\u001b[0m\u001b[0m\n",
      "\u001b[0;32m~/.conda/envs/default/lib/python3.9/subprocess.py\u001b[0m in \u001b[0;36m__init__\u001b[0;34m(self, args, bufsize, executable, stdin, stdout, stderr, preexec_fn, close_fds, shell, cwd, env, universal_newlines, startupinfo, creationflags, restore_signals, start_new_session, pass_fds, user, group, extra_groups, encoding, errors, text, umask)\u001b[0m\n\u001b[1;32m    950\u001b[0m \u001b[0;34m\u001b[0m\u001b[0m\n\u001b[0;32m--> 951\u001b[0;31m             self._execute_child(args, executable, preexec_fn, close_fds,\n\u001b[0m\u001b[1;32m    952\u001b[0m                                 \u001b[0mpass_fds\u001b[0m\u001b[0;34m,\u001b[0m \u001b[0mcwd\u001b[0m\u001b[0;34m,\u001b[0m \u001b[0menv\u001b[0m\u001b[0;34m,\u001b[0m\u001b[0;34m\u001b[0m\u001b[0;34m\u001b[0m\u001b[0m\n",
      "\u001b[0;32m~/.conda/envs/default/lib/python3.9/subprocess.py\u001b[0m in \u001b[0;36m_execute_child\u001b[0;34m(self, args, executable, preexec_fn, close_fds, pass_fds, cwd, env, startupinfo, creationflags, shell, p2cread, p2cwrite, c2pread, c2pwrite, errread, errwrite, restore_signals, gid, gids, uid, umask, start_new_session)\u001b[0m\n\u001b[1;32m   1820\u001b[0m                         \u001b[0merr_msg\u001b[0m \u001b[0;34m=\u001b[0m \u001b[0mos\u001b[0m\u001b[0;34m.\u001b[0m\u001b[0mstrerror\u001b[0m\u001b[0;34m(\u001b[0m\u001b[0merrno_num\u001b[0m\u001b[0;34m)\u001b[0m\u001b[0;34m\u001b[0m\u001b[0;34m\u001b[0m\u001b[0m\n\u001b[0;32m-> 1821\u001b[0;31m                     \u001b[0;32mraise\u001b[0m \u001b[0mchild_exception_type\u001b[0m\u001b[0;34m(\u001b[0m\u001b[0merrno_num\u001b[0m\u001b[0;34m,\u001b[0m \u001b[0merr_msg\u001b[0m\u001b[0;34m,\u001b[0m \u001b[0merr_filename\u001b[0m\u001b[0;34m)\u001b[0m\u001b[0;34m\u001b[0m\u001b[0;34m\u001b[0m\u001b[0m\n\u001b[0m\u001b[1;32m   1822\u001b[0m                 \u001b[0;32mraise\u001b[0m \u001b[0mchild_exception_type\u001b[0m\u001b[0;34m(\u001b[0m\u001b[0merr_msg\u001b[0m\u001b[0;34m)\u001b[0m\u001b[0;34m\u001b[0m\u001b[0;34m\u001b[0m\u001b[0m\n",
      "\u001b[0;31mFileNotFoundError\u001b[0m: [Errno 2] No such file or directory: 'chromedriver'",
      "\nDuring handling of the above exception, another exception occurred:\n",
      "\u001b[0;31mWebDriverException\u001b[0m                        Traceback (most recent call last)",
      "\u001b[0;32m/tmp/ipykernel_812/3327474305.py\u001b[0m in \u001b[0;36m<cell line: 2>\u001b[0;34m()\u001b[0m\n\u001b[1;32m      1\u001b[0m \u001b[0;31m# Creates driver that is updated to work with the latest version of Chrome\u001b[0m\u001b[0;34m\u001b[0m\u001b[0;34m\u001b[0m\u001b[0m\n\u001b[0;32m----> 2\u001b[0;31m \u001b[0mdriver\u001b[0m \u001b[0;34m=\u001b[0m \u001b[0mwebdriver\u001b[0m\u001b[0;34m.\u001b[0m\u001b[0mChrome\u001b[0m\u001b[0;34m(\u001b[0m\u001b[0;34m'chromedriver'\u001b[0m\u001b[0;34m,\u001b[0m\u001b[0mchrome_options\u001b[0m\u001b[0;34m=\u001b[0m\u001b[0mchrome_options\u001b[0m\u001b[0;34m)\u001b[0m\u001b[0;34m\u001b[0m\u001b[0;34m\u001b[0m\u001b[0m\n\u001b[0m\u001b[1;32m      3\u001b[0m \u001b[0;34m\u001b[0m\u001b[0m\n\u001b[1;32m      4\u001b[0m \u001b[0;31m# Navigate to page and sign in\u001b[0m\u001b[0;34m\u001b[0m\u001b[0;34m\u001b[0m\u001b[0m\n\u001b[1;32m      5\u001b[0m \u001b[0mdriver\u001b[0m\u001b[0;34m.\u001b[0m\u001b[0mget\u001b[0m\u001b[0;34m(\u001b[0m\u001b[0;34m'https://worldcheeseawards.com/wca-results'\u001b[0m\u001b[0;34m)\u001b[0m\u001b[0;34m\u001b[0m\u001b[0;34m\u001b[0m\u001b[0m\n",
      "\u001b[0;32m~/.conda/envs/default/lib/python3.9/site-packages/selenium/webdriver/chrome/webdriver.py\u001b[0m in \u001b[0;36m__init__\u001b[0;34m(self, executable_path, port, options, service_args, desired_capabilities, service_log_path, chrome_options, service, keep_alive)\u001b[0m\n\u001b[1;32m     67\u001b[0m             \u001b[0mservice\u001b[0m \u001b[0;34m=\u001b[0m \u001b[0mService\u001b[0m\u001b[0;34m(\u001b[0m\u001b[0mexecutable_path\u001b[0m\u001b[0;34m,\u001b[0m \u001b[0mport\u001b[0m\u001b[0;34m,\u001b[0m \u001b[0mservice_args\u001b[0m\u001b[0;34m,\u001b[0m \u001b[0mservice_log_path\u001b[0m\u001b[0;34m)\u001b[0m\u001b[0;34m\u001b[0m\u001b[0;34m\u001b[0m\u001b[0m\n\u001b[1;32m     68\u001b[0m \u001b[0;34m\u001b[0m\u001b[0m\n\u001b[0;32m---> 69\u001b[0;31m         super().__init__(DesiredCapabilities.CHROME['browserName'], \"goog\",\n\u001b[0m\u001b[1;32m     70\u001b[0m                          \u001b[0mport\u001b[0m\u001b[0;34m,\u001b[0m \u001b[0moptions\u001b[0m\u001b[0;34m,\u001b[0m\u001b[0;34m\u001b[0m\u001b[0;34m\u001b[0m\u001b[0m\n\u001b[1;32m     71\u001b[0m                          \u001b[0mservice_args\u001b[0m\u001b[0;34m,\u001b[0m \u001b[0mdesired_capabilities\u001b[0m\u001b[0;34m,\u001b[0m\u001b[0;34m\u001b[0m\u001b[0;34m\u001b[0m\u001b[0m\n",
      "\u001b[0;32m~/.conda/envs/default/lib/python3.9/site-packages/selenium/webdriver/chromium/webdriver.py\u001b[0m in \u001b[0;36m__init__\u001b[0;34m(self, browser_name, vendor_prefix, port, options, service_args, desired_capabilities, service_log_path, service, keep_alive)\u001b[0m\n\u001b[1;32m     87\u001b[0m \u001b[0;34m\u001b[0m\u001b[0m\n\u001b[1;32m     88\u001b[0m         \u001b[0mself\u001b[0m\u001b[0;34m.\u001b[0m\u001b[0mservice\u001b[0m \u001b[0;34m=\u001b[0m \u001b[0mservice\u001b[0m\u001b[0;34m\u001b[0m\u001b[0;34m\u001b[0m\u001b[0m\n\u001b[0;32m---> 89\u001b[0;31m         \u001b[0mself\u001b[0m\u001b[0;34m.\u001b[0m\u001b[0mservice\u001b[0m\u001b[0;34m.\u001b[0m\u001b[0mstart\u001b[0m\u001b[0;34m(\u001b[0m\u001b[0;34m)\u001b[0m\u001b[0;34m\u001b[0m\u001b[0;34m\u001b[0m\u001b[0m\n\u001b[0m\u001b[1;32m     90\u001b[0m \u001b[0;34m\u001b[0m\u001b[0m\n\u001b[1;32m     91\u001b[0m         \u001b[0;32mtry\u001b[0m\u001b[0;34m:\u001b[0m\u001b[0;34m\u001b[0m\u001b[0;34m\u001b[0m\u001b[0m\n",
      "\u001b[0;32m~/.conda/envs/default/lib/python3.9/site-packages/selenium/webdriver/common/service.py\u001b[0m in \u001b[0;36mstart\u001b[0;34m(self)\u001b[0m\n\u001b[1;32m     79\u001b[0m         \u001b[0;32mexcept\u001b[0m \u001b[0mOSError\u001b[0m \u001b[0;32mas\u001b[0m \u001b[0merr\u001b[0m\u001b[0;34m:\u001b[0m\u001b[0;34m\u001b[0m\u001b[0;34m\u001b[0m\u001b[0m\n\u001b[1;32m     80\u001b[0m             \u001b[0;32mif\u001b[0m \u001b[0merr\u001b[0m\u001b[0;34m.\u001b[0m\u001b[0merrno\u001b[0m \u001b[0;34m==\u001b[0m \u001b[0merrno\u001b[0m\u001b[0;34m.\u001b[0m\u001b[0mENOENT\u001b[0m\u001b[0;34m:\u001b[0m\u001b[0;34m\u001b[0m\u001b[0;34m\u001b[0m\u001b[0m\n\u001b[0;32m---> 81\u001b[0;31m                 raise WebDriverException(\n\u001b[0m\u001b[1;32m     82\u001b[0m                     \"'{}' executable needs to be in PATH. {}\".format(\n\u001b[1;32m     83\u001b[0m                         os.path.basename(self.path), self.start_error_message)\n",
      "\u001b[0;31mWebDriverException\u001b[0m: Message: 'chromedriver' executable needs to be in PATH. Please see https://chromedriver.chromium.org/home\n"
     ]
    }
   ],
   "source": [
    "# Creates driver that is updated to work with the latest version of Chrome\n",
    "driver = webdriver.Chrome('chromedriver',chrome_options=chrome_options)\n",
    "\n",
    "# Navigate to page and sign in\n",
    "driver.get('https://worldcheeseawards.com/wca-results')\n",
    "\n",
    "# Country Values\n",
    "select_box = driver.find_element_by_name(\"country_id\") \n",
    "options = [x for x in select_box.find_elements_by_tag_name(\"option\")]\n",
    "values_country = [element.get_attribute(\"value\") for element in options]\n",
    "values_country.pop(0)\n",
    "\n",
    "# County Values\n",
    "select_box = driver.find_element_by_name(\"county_id\") \n",
    "options = [x for x in select_box.find_elements_by_tag_name(\"option\")]\n",
    "values_county = [element.get_attribute(\"value\") for element in options]\n",
    "values_county.pop(0)\n",
    "\n",
    "# Category Values\n",
    "select_box = driver.find_element_by_name(\"mg_category_id\")\n",
    "options = [x for x in select_box.find_elements_by_tag_name(\"option\")]\n",
    "values_category = [element.get_attribute(\"value\") for element in options]\n",
    "values_category.pop(0)\n",
    "\n",
    "# List of all different cheese categories\n",
    "option_finder = (driver.find_element_by_name('mg_category_id')\n",
    "                       .find_elements_by_tag_name('option'))\n",
    "option_texts = [e.get_attribute(\"textContent\") for e in option_finder]\n",
    "option_texts.pop(0)\n",
    "\n",
    "# Close browser and terminate driver instance\n",
    "driver.quit()"
   ]
  },
  {
   "cell_type": "code",
   "execution_count": null,
   "metadata": {
    "id": "9CAYrjeZKmJ_"
   },
   "outputs": [],
   "source": [
    "country_dict = dict(zip(values_country, countries))\n",
    "county_dict = dict(zip(values_county, counties))\n",
    "category_dict = dict(zip(values_category, option_texts))"
   ]
  },
  {
   "cell_type": "markdown",
   "metadata": {
    "id": "2W-q67SGgeBR"
   },
   "source": [
    "## Keep only categories that have entries"
   ]
  },
  {
   "cell_type": "code",
   "execution_count": null,
   "metadata": {
    "id": "GfT7Yoaqco4h"
   },
   "outputs": [],
   "source": [
    "root = 'https://worldcheeseawards.com/wca-results?sort_options_limit=100&sort_options_sort_direction=desc&sort_options_sort_by=rating'\n",
    "\n",
    "count = 0\n",
    "\n",
    "category_keep_list = []\n",
    "\n",
    "for category_key in category_dict.keys():\n",
    "  url = f'{root}&mg_category_id={category_key}&country_id=&county_id=&filter=Search&page=1'\n",
    "\n",
    "  header = {\n",
    "  \"User-Agent\": \"Mozilla/5.0 (X11; Linux x86_64) AppleWebKit/537.36 (KHTML, like Gecko) Chrome/50.0.2661.75 Safari/537.36\",\n",
    "  \"X-Requested-With\": \"XMLHttpRequest\"\n",
    "  }\n",
    "\n",
    "  r = requests.get(url, headers=header)\n",
    "\n",
    "  data = pd.read_html(r.text)\n",
    "\n",
    "  # print(f\"{category_key}, {data[0].shape[0]}\")\n",
    "\n",
    "  count = count + data[0].shape[0]\n",
    "\n",
    "  if data[0].shape[0] > 0:\n",
    "    category_keep_list.append(category_key)"
   ]
  },
  {
   "cell_type": "markdown",
   "metadata": {
    "id": "IP5zvg-fhlb6"
   },
   "source": [
    "## Keep only countries that have entries"
   ]
  },
  {
   "cell_type": "code",
   "execution_count": null,
   "metadata": {
    "id": "CVX1aeKJgG4-"
   },
   "outputs": [],
   "source": [
    "root = 'https://worldcheeseawards.com/wca-results?sort_options_limit=100&sort_options_sort_direction=desc&sort_options_sort_by=rating'\n",
    "\n",
    "count = 0\n",
    "\n",
    "country_keep_list = []\n",
    "\n",
    "for country_key in country_dict.keys():\n",
    "  url = f'{root}&mg_category_id=&country_id={country_key}&county_id=&filter=Search&page=1'\n",
    "\n",
    "  header = {\n",
    "  \"User-Agent\": \"Mozilla/5.0 (X11; Linux x86_64) AppleWebKit/537.36 (KHTML, like Gecko) Chrome/50.0.2661.75 Safari/537.36\",\n",
    "  \"X-Requested-With\": \"XMLHttpRequest\"\n",
    "  }\n",
    "\n",
    "  r = requests.get(url, headers=header)\n",
    "\n",
    "  data = pd.read_html(r.text)\n",
    "\n",
    "  print(f\"{country_key}, {data[0].shape[0]}\")\n",
    "\n",
    "  count = count + data[0].shape[0]\n",
    "\n",
    "  if data[0].shape[0] > 0:\n",
    "    country_keep_list.append(country_key)"
   ]
  },
  {
   "cell_type": "markdown",
   "metadata": {
    "id": "1XSiZ5w9htTV"
   },
   "source": [
    "## Keep only counties with entries"
   ]
  },
  {
   "cell_type": "code",
   "execution_count": null,
   "metadata": {
    "id": "94FTWP4Fg8Qk"
   },
   "outputs": [],
   "source": [
    "root = 'https://worldcheeseawards.com/wca-results?sort_options_limit=100&sort_options_sort_direction=desc&sort_options_sort_by=rating'\n",
    "\n",
    "count = 0\n",
    "\n",
    "county_keep_list = []\n",
    "\n",
    "for county_key in county_dict.keys():\n",
    "  url = f'{root}&mg_category_id=&country_id=&county_id={county_key}&filter=Search&page=1'\n",
    "\n",
    "  header = {\n",
    "  \"User-Agent\": \"Mozilla/5.0 (X11; Linux x86_64) AppleWebKit/537.36 (KHTML, like Gecko) Chrome/50.0.2661.75 Safari/537.36\",\n",
    "  \"X-Requested-With\": \"XMLHttpRequest\"\n",
    "  }\n",
    "\n",
    "  r = requests.get(url, headers=header)\n",
    "\n",
    "  data = pd.read_html(r.text)\n",
    "\n",
    "  print(f\"{county_key}, {data[0].shape[0]}\")\n",
    "\n",
    "  count = count + data[0].shape[0]\n",
    "\n",
    "  if data[0].shape[0] > 0:\n",
    "    county_keep_list.append(county_key)"
   ]
  },
  {
   "cell_type": "markdown",
   "metadata": {
    "id": "9kF3gat93OiW"
   },
   "source": [
    "## Pull all data and store in master list of dataframes"
   ]
  },
  {
   "cell_type": "code",
   "execution_count": null,
   "metadata": {
    "id": "yGDlYvGOhb4O"
   },
   "outputs": [],
   "source": [
    "master_list = []\n",
    "\n",
    "root = 'https://worldcheeseawards.com/wca-results?sort_options_limit=100&sort_options_sort_direction=desc&sort_options_sort_by=rating'\n",
    "\n",
    "for category_key in category_keep_list:\n",
    "    for country_key in country_keep_list:\n",
    "        if country_key in ('100','230'):\n",
    "            for county_key in county_keep_list:\n",
    "                    \n",
    "              url = f'{root}&mg_category_id={category_key}&country_id={country_key}&county_id={county_key}&filter=Search&page={i}'\n",
    "\n",
    "              header = {\n",
    "              \"User-Agent\": \"Mozilla/5.0 (X11; Linux x86_64) AppleWebKit/537.36 (KHTML, like Gecko) Chrome/50.0.2661.75 Safari/537.36\",\n",
    "              \"X-Requested-With\": \"XMLHttpRequest\"\n",
    "              }\n",
    "\n",
    "              r = requests.get(url, headers=header)\n",
    "\n",
    "              data = pd.read_html(r.text)\n",
    "\n",
    "              # print(f\"{category_key}, {country_key}, {county_key}, {i}, {data[0].shape[0]}\")\n",
    "\n",
    "              if data[0].shape[0] > 0:\n",
    "                data[0]['Category'] = category_dict[category_key]\n",
    "                data[0]['Country'] = country_dict[country_key]\n",
    "                data[0]['County'] = county_dict[county_key]\n",
    "                master_list.append(data[0])\n",
    "\n",
    "        else:      \n",
    "          url = f'{root}&mg_category_id={category_key}&country_id={country_key}&county_id=&filter=Search&page={i}'\n",
    "\n",
    "          header = {\n",
    "          \"User-Agent\": \"Mozilla/5.0 (X11; Linux x86_64) AppleWebKit/537.36 (KHTML, like Gecko) Chrome/50.0.2661.75 Safari/537.36\",\n",
    "          \"X-Requested-With\": \"XMLHttpRequest\"\n",
    "          }\n",
    "\n",
    "          r = requests.get(url, headers=header)\n",
    "\n",
    "          data = pd.read_html(r.text)\n",
    "\n",
    "          # print(f\"{category_key}, {country_key}, 'NA', {i}, {data[0].shape[0]}\")\n",
    "\n",
    "          if data[0].shape[0] > 0:\n",
    "            data[0]['Category'] = category_dict[category_key]\n",
    "            data[0]['Country'] = country_dict[country_key]\n",
    "            data[0]['County'] = np.nan\n",
    "            master_list.append(data[0])"
   ]
  },
  {
   "cell_type": "markdown",
   "metadata": {
    "id": "vDYjfNXym9vE"
   },
   "source": [
    "## Concatenate all the dataframes"
   ]
  },
  {
   "cell_type": "code",
   "execution_count": null,
   "metadata": {
    "id": "rYKTbpAcjYI4"
   },
   "outputs": [],
   "source": [
    "df_big_cheese = pd.concat(master_list)"
   ]
  },
  {
   "cell_type": "markdown",
   "metadata": {
    "id": "JFSYdeLt4VYJ"
   },
   "source": [
    "## Clean and standardize a bit!"
   ]
  },
  {
   "cell_type": "code",
   "execution_count": null,
   "metadata": {
    "id": "7MG1Jmoik8mj"
   },
   "outputs": [],
   "source": [
    "# Fix the category column\n",
    "df_big_cheese['Category'] = df_big_cheese['Category'].str[79:].str[:-73]"
   ]
  },
  {
   "cell_type": "code",
   "execution_count": null,
   "metadata": {
    "id": "ANH5q3Y82i6I"
   },
   "outputs": [],
   "source": [
    "# Reset index\n",
    "df_big_cheese.reset_index(drop=True, inplace=True)"
   ]
  },
  {
   "cell_type": "code",
   "execution_count": null,
   "metadata": {
    "id": "m4GtEw7H3jft"
   },
   "outputs": [],
   "source": [
    "# Clean up column names\n",
    "df_big_cheese.rename(columns={'Company':'company'\n",
    "                              ,'Product name':'product_name'\n",
    "                              ,'Rating':'rating'\n",
    "                              ,'Category':'category'\n",
    "                              ,'Country':'country'\n",
    "                              ,'County':'county'}\n",
    "                     ,inplace=True)"
   ]
  },
  {
   "cell_type": "code",
   "execution_count": null,
   "metadata": {
    "id": "wUFZUuMnlbPH"
   },
   "outputs": [],
   "source": [
    "df_big_cheese.to_csv('big_cheese.csv')"
   ]
  },
  {
   "cell_type": "code",
   "execution_count": null,
   "metadata": {},
   "outputs": [],
   "source": []
  }
 ],
 "metadata": {
  "colab": {
   "authorship_tag": "ABX9TyONSKP87H4HYYqsGyHOibZe",
   "include_colab_link": true,
   "name": "Untitled0.ipynb",
   "provenance": []
  },
  "kernelspec": {
   "display_name": "default:Python",
   "language": "python",
   "name": "conda-env-default-py"
  },
  "language_info": {
   "codemirror_mode": {
    "name": "ipython",
    "version": 3
   },
   "file_extension": ".py",
   "mimetype": "text/x-python",
   "name": "python",
   "nbconvert_exporter": "python",
   "pygments_lexer": "ipython3",
   "version": "3.9.13"
  }
 },
 "nbformat": 4,
 "nbformat_minor": 4
}
