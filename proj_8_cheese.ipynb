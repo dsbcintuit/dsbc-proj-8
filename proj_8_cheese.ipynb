{
 "cells": [
  {
   "cell_type": "code",
   "execution_count": 1,
   "id": "f2ae07d4-5560-4128-930f-1f3722471b0c",
   "metadata": {},
   "outputs": [],
   "source": [
    "import pandas as pd\n",
    "import plotly.graph_objs as go"
   ]
  },
  {
   "cell_type": "code",
   "execution_count": 2,
   "id": "378c731a-abdb-4ec2-99bd-485e10a26c56",
   "metadata": {},
   "outputs": [],
   "source": [
    "df = pd.read_csv(\"apps/world_cheese_awards_2021.csv\")"
   ]
  },
  {
   "cell_type": "code",
   "execution_count": 3,
   "id": "ecf335ff-7053-475e-8252-f46df72dabe6",
   "metadata": {},
   "outputs": [
    {
     "data": {
      "text/html": [
       "<div>\n",
       "<style scoped>\n",
       "    .dataframe tbody tr th:only-of-type {\n",
       "        vertical-align: middle;\n",
       "    }\n",
       "\n",
       "    .dataframe tbody tr th {\n",
       "        vertical-align: top;\n",
       "    }\n",
       "\n",
       "    .dataframe thead th {\n",
       "        text-align: right;\n",
       "    }\n",
       "</style>\n",
       "<table border=\"1\" class=\"dataframe\">\n",
       "  <thead>\n",
       "    <tr style=\"text-align: right;\">\n",
       "      <th></th>\n",
       "      <th>Unnamed: 0</th>\n",
       "    </tr>\n",
       "  </thead>\n",
       "  <tbody>\n",
       "    <tr>\n",
       "      <th>count</th>\n",
       "      <td>1741.000000</td>\n",
       "    </tr>\n",
       "    <tr>\n",
       "      <th>mean</th>\n",
       "      <td>870.000000</td>\n",
       "    </tr>\n",
       "    <tr>\n",
       "      <th>std</th>\n",
       "      <td>502.727726</td>\n",
       "    </tr>\n",
       "    <tr>\n",
       "      <th>min</th>\n",
       "      <td>0.000000</td>\n",
       "    </tr>\n",
       "    <tr>\n",
       "      <th>25%</th>\n",
       "      <td>435.000000</td>\n",
       "    </tr>\n",
       "    <tr>\n",
       "      <th>50%</th>\n",
       "      <td>870.000000</td>\n",
       "    </tr>\n",
       "    <tr>\n",
       "      <th>75%</th>\n",
       "      <td>1305.000000</td>\n",
       "    </tr>\n",
       "    <tr>\n",
       "      <th>max</th>\n",
       "      <td>1740.000000</td>\n",
       "    </tr>\n",
       "  </tbody>\n",
       "</table>\n",
       "</div>"
      ],
      "text/plain": [
       "        Unnamed: 0\n",
       "count  1741.000000\n",
       "mean    870.000000\n",
       "std     502.727726\n",
       "min       0.000000\n",
       "25%     435.000000\n",
       "50%     870.000000\n",
       "75%    1305.000000\n",
       "max    1740.000000"
      ]
     },
     "execution_count": 3,
     "metadata": {},
     "output_type": "execute_result"
    }
   ],
   "source": [
    "df.describe()"
   ]
  },
  {
   "cell_type": "code",
   "execution_count": 4,
   "id": "d158b317-8325-451b-87b5-52248407e750",
   "metadata": {},
   "outputs": [
    {
     "data": {
      "text/html": [
       "<div>\n",
       "<style scoped>\n",
       "    .dataframe tbody tr th:only-of-type {\n",
       "        vertical-align: middle;\n",
       "    }\n",
       "\n",
       "    .dataframe tbody tr th {\n",
       "        vertical-align: top;\n",
       "    }\n",
       "\n",
       "    .dataframe thead th {\n",
       "        text-align: right;\n",
       "    }\n",
       "</style>\n",
       "<table border=\"1\" class=\"dataframe\">\n",
       "  <thead>\n",
       "    <tr style=\"text-align: right;\">\n",
       "      <th></th>\n",
       "      <th>Unnamed: 0</th>\n",
       "      <th>company</th>\n",
       "      <th>product_name</th>\n",
       "      <th>rating</th>\n",
       "      <th>category</th>\n",
       "      <th>country</th>\n",
       "      <th>county</th>\n",
       "    </tr>\n",
       "  </thead>\n",
       "  <tbody>\n",
       "    <tr>\n",
       "      <th>0</th>\n",
       "      <td>0</td>\n",
       "      <td>Laiteries H. Triballat  Website</td>\n",
       "      <td>Picandou L'Original</td>\n",
       "      <td>GOLD</td>\n",
       "      <td>5001 - Soft goats’ milk cheese plain – fresh</td>\n",
       "      <td>France</td>\n",
       "      <td>NaN</td>\n",
       "    </tr>\n",
       "    <tr>\n",
       "      <th>1</th>\n",
       "      <td>1</td>\n",
       "      <td>Fromageries Lescure (Savencia)  Website</td>\n",
       "      <td>ISLOS GREEK GOAT CHEESE 150G</td>\n",
       "      <td>BRONZE</td>\n",
       "      <td>5001 - Soft goats’ milk cheese plain – fresh</td>\n",
       "      <td>Greece</td>\n",
       "      <td>NaN</td>\n",
       "    </tr>\n",
       "    <tr>\n",
       "      <th>2</th>\n",
       "      <td>2</td>\n",
       "      <td>Casale Roccolo azienda agricola biologica  Web...</td>\n",
       "      <td>Caprino Fresco CASALE ROCCOLO</td>\n",
       "      <td>SILVER</td>\n",
       "      <td>5001 - Soft goats’ milk cheese plain – fresh</td>\n",
       "      <td>Italy</td>\n",
       "      <td>NaN</td>\n",
       "    </tr>\n",
       "    <tr>\n",
       "      <th>3</th>\n",
       "      <td>3</td>\n",
       "      <td>DeJong Cheese  Website</td>\n",
       "      <td>Alphenaer Crumbled Goats Cheese Natural  View ...</td>\n",
       "      <td>BRONZE</td>\n",
       "      <td>5001 - Soft goats’ milk cheese plain – fresh</td>\n",
       "      <td>Netherlands</td>\n",
       "      <td>NaN</td>\n",
       "    </tr>\n",
       "    <tr>\n",
       "      <th>4</th>\n",
       "      <td>4</td>\n",
       "      <td>DeJong Cheese  Website</td>\n",
       "      <td>Alphenaer Spreadable Goats Cheese Natural  Vie...</td>\n",
       "      <td>BRONZE</td>\n",
       "      <td>5001 - Soft goats’ milk cheese plain – fresh</td>\n",
       "      <td>Netherlands</td>\n",
       "      <td>NaN</td>\n",
       "    </tr>\n",
       "  </tbody>\n",
       "</table>\n",
       "</div>"
      ],
      "text/plain": [
       "   Unnamed: 0                                            company  \\\n",
       "0           0                    Laiteries H. Triballat  Website   \n",
       "1           1            Fromageries Lescure (Savencia)  Website   \n",
       "2           2  Casale Roccolo azienda agricola biologica  Web...   \n",
       "3           3                             DeJong Cheese  Website   \n",
       "4           4                             DeJong Cheese  Website   \n",
       "\n",
       "                                        product_name  rating  \\\n",
       "0                                Picandou L'Original    GOLD   \n",
       "1                       ISLOS GREEK GOAT CHEESE 150G  BRONZE   \n",
       "2                      Caprino Fresco CASALE ROCCOLO  SILVER   \n",
       "3  Alphenaer Crumbled Goats Cheese Natural  View ...  BRONZE   \n",
       "4  Alphenaer Spreadable Goats Cheese Natural  Vie...  BRONZE   \n",
       "\n",
       "                                       category      country county  \n",
       "0  5001 - Soft goats’ milk cheese plain – fresh       France    NaN  \n",
       "1  5001 - Soft goats’ milk cheese plain – fresh       Greece    NaN  \n",
       "2  5001 - Soft goats’ milk cheese plain – fresh        Italy    NaN  \n",
       "3  5001 - Soft goats’ milk cheese plain – fresh  Netherlands    NaN  \n",
       "4  5001 - Soft goats’ milk cheese plain – fresh  Netherlands    NaN  "
      ]
     },
     "execution_count": 4,
     "metadata": {},
     "output_type": "execute_result"
    }
   ],
   "source": [
    "df.head()"
   ]
  },
  {
   "cell_type": "code",
   "execution_count": 5,
   "id": "0eb5344e-196d-4c55-b8de-1e01031e63cf",
   "metadata": {},
   "outputs": [
    {
     "data": {
      "text/plain": [
       "(1741, 7)"
      ]
     },
     "execution_count": 5,
     "metadata": {},
     "output_type": "execute_result"
    }
   ],
   "source": [
    "df.shape"
   ]
  },
  {
   "cell_type": "code",
   "execution_count": 6,
   "id": "bac1d09f-bc75-4db6-81b1-76c98f5ac570",
   "metadata": {},
   "outputs": [
    {
     "data": {
      "text/plain": [
       "Unnamed: 0         0\n",
       "company            0\n",
       "product_name       0\n",
       "rating             0\n",
       "category           0\n",
       "country            0\n",
       "county          1656\n",
       "dtype: int64"
      ]
     },
     "execution_count": 6,
     "metadata": {},
     "output_type": "execute_result"
    }
   ],
   "source": [
    "df.isnull().sum()"
   ]
  },
  {
   "cell_type": "code",
   "execution_count": 7,
   "id": "ac0714a5-7533-4d25-a0b0-c2ce13bf47dd",
   "metadata": {},
   "outputs": [
    {
     "name": "stderr",
     "output_type": "stream",
     "text": [
      "/tmp/ipykernel_229/1151452817.py:1: FutureWarning: Dropping of nuisance columns in DataFrame reductions (with 'numeric_only=None') is deprecated; in a future version this will raise TypeError.  Select only valid columns before calling the reduction.\n",
      "  df.max()\n"
     ]
    },
    {
     "data": {
      "text/plain": [
       "Unnamed: 0                                                   1740\n",
       "company             terramater ( azienda agricola nodar)  Website\n",
       "product_name             •\\tVillaHerencia - Tender Sheep´s Cheese\n",
       "rating                                                 SUPER GOLD\n",
       "category        5710 - Any other buffalo's milk cheese not in ...\n",
       "country                                            United Kingdom\n",
       "dtype: object"
      ]
     },
     "execution_count": 7,
     "metadata": {},
     "output_type": "execute_result"
    }
   ],
   "source": [
    "df.max()"
   ]
  },
  {
   "cell_type": "code",
   "execution_count": 8,
   "id": "8f13bf22-cf64-4fe1-956b-d2a594374971",
   "metadata": {},
   "outputs": [
    {
     "name": "stderr",
     "output_type": "stream",
     "text": [
      "/tmp/ipykernel_229/3962516015.py:1: FutureWarning: Dropping of nuisance columns in DataFrame reductions (with 'numeric_only=None') is deprecated; in a future version this will raise TypeError.  Select only valid columns before calling the reduction.\n",
      "  df.min()\n"
     ]
    },
    {
     "data": {
      "text/plain": [
       "Unnamed: 0                                                 0\n",
       "company             \"SA CRABERIA\" AZIENDA OVICAPRINA BRAU A.\n",
       "product_name                      \"Balaton\" semi-hard cheese\n",
       "rating                                                BRONZE\n",
       "category        5001 - Soft goats’ milk cheese plain – fresh\n",
       "country                                            Argentina\n",
       "dtype: object"
      ]
     },
     "execution_count": 8,
     "metadata": {},
     "output_type": "execute_result"
    }
   ],
   "source": [
    "df.min()"
   ]
  },
  {
   "cell_type": "code",
   "execution_count": 9,
   "id": "d42d8d57-3da9-4968-ac32-681b5230a81b",
   "metadata": {},
   "outputs": [],
   "source": [
    "new=df.drop(['county', 'Unnamed: 0'], axis=1)"
   ]
  },
  {
   "cell_type": "code",
   "execution_count": 10,
   "id": "605da1f2-0908-4f9d-abe5-cf9ff7403c40",
   "metadata": {},
   "outputs": [
    {
     "data": {
      "text/plain": [
       "(1741, 5)"
      ]
     },
     "execution_count": 10,
     "metadata": {},
     "output_type": "execute_result"
    }
   ],
   "source": [
    "new.shape"
   ]
  },
  {
   "cell_type": "code",
   "execution_count": 11,
   "id": "b76cff05-659a-4bf4-a1a1-d6ed8503c3cf",
   "metadata": {},
   "outputs": [
    {
     "data": {
      "text/plain": [
       "company         object\n",
       "product_name    object\n",
       "rating          object\n",
       "category        object\n",
       "country         object\n",
       "dtype: object"
      ]
     },
     "execution_count": 11,
     "metadata": {},
     "output_type": "execute_result"
    }
   ],
   "source": [
    "new.dtypes"
   ]
  },
  {
   "cell_type": "code",
   "execution_count": 12,
   "id": "6940ac34-99f7-4edd-bb98-abb65dd7ee2c",
   "metadata": {},
   "outputs": [
    {
     "data": {
      "text/plain": [
       "array(['5001 - Soft goats’ milk cheese plain – fresh',\n",
       "       '5002 - Soft goats’ milk cheese plain – mouldripened',\n",
       "       '5003 - Semi-hard goats’ milk cheese plain',\n",
       "       '5004 - Hard goats’ milk cheese plain',\n",
       "       '5005 - Goats’ milk cheese with additives',\n",
       "       '5006 - Goats’ milk cheese blue',\n",
       "       '5007 - Goats’ milk cheese smoked',\n",
       "       '5009 - Any other Goats’ milk cheese not in any other class',\n",
       "       '5101 - Soft ewes’ milk cheese plain',\n",
       "       '5102 - Semi-hard ewes’ milk cheese plain',\n",
       "       '5103 - Hard ewes’ milk cheese plain',\n",
       "       '5104 - Ewes’ milk cheese smoked',\n",
       "       '5105 - Ewes’ milk cheese with additives',\n",
       "       '5106 - Ewes’ milk cheese blue', '5107 - Manchego – semi-curado',\n",
       "       '5108 - Manchego – curado', '5109 - Idiazabal', '5110 - Pecorino',\n",
       "       \"5111 - Ricotta made with ewes' milk\",\n",
       "       '5112 - Any other Ewes’ milk cheese not in any other class',\n",
       "       '5203 - Medium Cheddar made between 31/01/21 and 31/07/21 – traditional flavour',\n",
       "       '5204 - Medium Cheddar made between 31/01/21 and 31/07/21 – sweeter flavour',\n",
       "       '5205 - Medium block creamery Cheddar made between 31/01/21 and 31/07/21 – traditional flavour',\n",
       "       '5206 - Medium block creamery Cheddar made between 31/01/21 and 31/07/21 – sweeter flavour',\n",
       "       '5207 - Medium block farmhouse Cheddar made between 31/01/21 and 31/07/21 – traditional flavour',\n",
       "       '5209 - Mature traditional Cheddar made between 01/10/20 and 30/01/21 – traditional flavour',\n",
       "       '5215 - Extra Mature traditional Cheddar made between 01/06/20 and 30/09/20 – traditional flavour',\n",
       "       '5220 - Extra Mature block farmhouse Cheddar made between 01/06/20 and 30/09/20 – sweeter flavour',\n",
       "       '5221 - Any farmhouse Cheddar made on or before 31/05/20 – traditional flavour',\n",
       "       '5222 - Any farmhouse Cheddar made on or before 31/05/20 – sweeter flavour',\n",
       "       '5224 - Any creamery Cheddar made on or before 31/05/20 – sweeter flavour',\n",
       "       '5225 - Double Gloucester', '5226 - Leicester',\n",
       "       '5227 - Caerphilly', '5231 - Cheshire',\n",
       "       '5232 - Parmigiano Reggiano 18-23 months. Made between 01/11/2019 and 31/03/20',\n",
       "       '5233 - Parmigiano Reggiano 24-29 months. Made between 01/05/19 and 31/10/19',\n",
       "       '5234 - Parmigiano Reggiano 30-39 months. Made between 01/07/2018 and 30/04/19',\n",
       "       '5235 - Parmigiano Reggiano over 40 months. Made before 30/06/2018',\n",
       "       '5236 - Grana Padano made on or after 31/07/20',\n",
       "       '5237 - Grana Padano made before 31/07/20',\n",
       "       '5240 - Emmental produced on or after 01/12/20',\n",
       "       '5241 - Emmental produced before 01/12/20',\n",
       "       '5242 - Gruyère produced on or after 01/12/20',\n",
       "       '5243 - Gruyère produced before 01/12/20',\n",
       "       '5245 - Gouda – made on or after 01/12/20',\n",
       "       '5246 - Gouda – made before 01/12/20',\n",
       "       \"5247 - Any other semi – hard Cows' milk cheese not in any other class\",\n",
       "       \"5248 - Any other hard Cows' milk cheese not in any other class\",\n",
       "       \"5249 - Any other very hard Cows' milk cheese not in any other class\",\n",
       "       '5250 - Smoked Cheddar', '5251 - Smoked cheese – semi-hard',\n",
       "       '5252 - Smoked cheese – hard', '5301 - Cottage cheese fine',\n",
       "       '5302 - Fresh/cream cheese cows’ milk plain', '5303 - Ricotta',\n",
       "       '5304 - Mascarpone', '5305 - Quark plain or with additives',\n",
       "       '5306 - Mozzarella, fresh, cows’ milk in ball (large or small)',\n",
       "       \"5307 - Mozzarella, cows' milk in block, slices or string\",\n",
       "       '5308 - Brie made from unpasteurised milk',\n",
       "       '5309 - Brie made from pasteurised milk',\n",
       "       '5311 - Camembert made from pasteurised milk',\n",
       "       '5312 - Any other mould ripened, soft or unpressed cows’ milk cheese – plain',\n",
       "       '5313 - Pont l’Évêque/Livarot/Reblochon', '5314 - Taleggio',\n",
       "       '5315 - Rind washed cheese not in any other class ',\n",
       "       '5316 - Smoked cheese – soft/semi soft cheese not in any other class',\n",
       "       '5317 - Any other semi-soft Cows’ milk cheese not in any other class',\n",
       "       '5318 - Any other soft Cows’ milk cheese not in any other class',\n",
       "       '5401 - A single Stilton – uncut mature',\n",
       "       '5402 - A single Stilton – uncut extra mature',\n",
       "       '5403 - A single Stilton – cut mature',\n",
       "       '5404 - A single Stilton – cut extra mature',\n",
       "       '5405 - Gorgonzola – Dolce/creamy', '5406 - Gorgonzola – Piccante',\n",
       "       '5407 - Blue vein cheese any variety, uncut, natural rind',\n",
       "       '5408 - Blue vein cheese any variety, uncut, foil wrapped',\n",
       "       \"5409 - Any other Cows' milk blue cheese not in any other class\",\n",
       "       '5501 - Cheese made with the milk of more than one animal',\n",
       "       '5502 - Soft cheese produced on farm or dairy with a total output not exceeding a weekly average of 2t.',\n",
       "       '5503 - Semi-hard produced on farm or dairy with a total output not exceeding a weekly average of 2t.',\n",
       "       '5504 - Hard cheese produced on farm or dairy with a total output not exceeding a weekly average of 2t.',\n",
       "       '5505 - Blue cheese produced on farm or dairy with a total output not exceeding a weekly average of 2t.',\n",
       "       '5506 - Any hard cheese that has been awarded a Denomination of Origin (PDO/PGI/AOC)',\n",
       "       '5507 - Any blue cheese that has been awarded a Denomination of Origin (PDO/PGI/AOC)',\n",
       "       '5508 - Any other cheese that has been awarded a Denomination of Origin (PDO/PGI/AOC)',\n",
       "       '5509 - New Cheese – hard or semi-hard. Open to any new cheese first marketed after 01/12/20',\n",
       "       '5510 - New Cheese – blue. Open to any new cheese first marketed after 01/12/20',\n",
       "       '5511 - New Cheese – with additives. Open to any new cheese first marketed after 01/12/20',\n",
       "       '5512 - All other new cheeses. Open to any new cheese first marketed after 01/12/20',\n",
       "       '5514 - Any cheese that has been awarded Supreme Champion (or its equivalent) in a national or international cheese awards in any country (verification will be required)',\n",
       "       '5515 - Feta plain without oil or additives',\n",
       "       '5516 - Feta plain in oil or with additives',\n",
       "       '5518 - Any cheese that cannot be placed in any other class',\n",
       "       '5601 - Reduced fat cheese hard pressed (referring to a cheese with a fat in dry matter less than 45%)',\n",
       "       '5603 - Processed cheese or processed cheese spread plain',\n",
       "       '5604 - Processed cheese or processed cheese spread with additives',\n",
       "       '5605 - Hard pressed or repressed Cheddar with savoury additives',\n",
       "       '5606 - Other hard pressed or repressed cheese with savoury additives',\n",
       "       '5607 - Hard pressed or repressed cheese with sweet style additives',\n",
       "       '5609 - Soft or unpressed cheese with savoury additives',\n",
       "       '5610 - Soft or unpressed cheese with sweet style additives',\n",
       "       '5611 - Cream or fresh cheese with savoury additives',\n",
       "       '5612 - Cream or fresh cheese with sweet additives',\n",
       "       '5613 - String Cheese', '5701 - Mozzarella di Bufala',\n",
       "       \"5702 - Soft buffalo's milk cheese plain – fresh\",\n",
       "       \"5703 - Soft buffalo's milk cheese plain – mouldripened\",\n",
       "       \"5704 - Semi-hard buffalo's milk cheese plain\",\n",
       "       \"5705 - Hard buffalo's milk cheese plain\",\n",
       "       \"5706 - Buffalo's milk cheese with additives\",\n",
       "       \"5707 - Buffalo's milk cheese blue\",\n",
       "       \"5709 - Ricotta made with buffalos' milk\",\n",
       "       \"5710 - Any other buffalo's milk cheese not in any other class\"],\n",
       "      dtype=object)"
      ]
     },
     "execution_count": 12,
     "metadata": {},
     "output_type": "execute_result"
    }
   ],
   "source": [
    "new['category'].unique()"
   ]
  },
  {
   "cell_type": "code",
   "execution_count": 16,
   "id": "f69c9236-6ab3-4689-814e-8800ecf6b8f6",
   "metadata": {},
   "outputs": [
    {
     "data": {
      "text/plain": [
       "array(['GOLD', 'BRONZE', 'SILVER', 'SUPER GOLD'], dtype=object)"
      ]
     },
     "execution_count": 16,
     "metadata": {},
     "output_type": "execute_result"
    }
   ],
   "source": [
    "new['rating'].unique()"
   ]
  },
  {
   "cell_type": "code",
   "execution_count": 17,
   "id": "f56608ea-eafb-4355-8ddd-1fb00cb9287e",
   "metadata": {},
   "outputs": [
    {
     "name": "stdout",
     "output_type": "stream",
     "text": [
      "BRONZE        747\n",
      "SILVER        590\n",
      "GOLD          316\n",
      "SUPER GOLD     88\n",
      "Name: rating, dtype: int64\n"
     ]
    }
   ],
   "source": [
    "new_one=new['rating'].value_counts()\n",
    "# new_two=new.value_counts()\n",
    "print(new_two)"
   ]
  },
  {
   "cell_type": "code",
   "execution_count": 20,
   "id": "9921a52f-1ebd-419d-9076-24e857063f71",
   "metadata": {},
   "outputs": [],
   "source": [
    "new_two=new_one.copy(deep=True)"
   ]
  },
  {
   "cell_type": "code",
   "execution_count": 23,
   "id": "983f4349-fe86-41f6-91b6-b6dbc6c87f55",
   "metadata": {},
   "outputs": [
    {
     "data": {
      "text/plain": [
       "<AxesSubplot:>"
      ]
     },
     "execution_count": 23,
     "metadata": {},
     "output_type": "execute_result"
    },
    {
     "data": {
      "image/png": "[encoded data removed]",
      "text/plain": [
       "<Figure size 432x288 with 1 Axes>"
      ]
     },
     "metadata": {
      "needs_background": "light"
     },
     "output_type": "display_data"
    }
   ],
   "source": [
    "new_two.plot(kind='bar')\n",
    "# new_two.plot(kind=\"hist\", bins=2)"
   ]
  },
  {
   "cell_type": "code",
   "execution_count": null,
   "id": "eb94718d-fdc5-45c3-9c92-f7a7e0602539",
   "metadata": {},
   "outputs": [],
   "source": [
    "df.plot(title='Cheese Ratings by Country', kind='pie', x='rating', y='country', use_index=True)"
   ]
  },
  {
   "cell_type": "code",
   "execution_count": null,
   "id": "5055e88f-ee7b-4f7f-abbd-14e8418ac8f9",
   "metadata": {},
   "outputs": [],
   "source": []
  }
 ],
 "metadata": {
  "kernelspec": {
   "display_name": "default:Python",
   "language": "python",
   "name": "conda-env-default-py"
  },
  "language_info": {
   "codemirror_mode": {
    "name": "ipython",
    "version": 3
   },
   "file_extension": ".py",
   "mimetype": "text/x-python",
   "name": "python",
   "nbconvert_exporter": "python",
   "pygments_lexer": "ipython3",
   "version": "3.9.13"
  }
 },
 "nbformat": 4,
 "nbformat_minor": 5
}
